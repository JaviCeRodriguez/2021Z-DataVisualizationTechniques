{
 "cells": [
  {
   "cell_type": "markdown",
   "metadata": {},
   "source": [
    "# [TWD] Praca Domowa nr8\n",
    "## Kacper Kurowski"
   ]
  },
  {
   "cell_type": "markdown",
   "metadata": {},
   "source": [
    "## Problematyczny wykres\n",
    "\n",
    "Poniższy wykres znalazłem na stronie [onet.pl](https://www.onet.pl/styl-zycia/onetkobieta/szczepionka-na-koronawirusa-ksiadz-zastanawia-sie-czy-przy-jej-produkcji-nie-uzyto/mgs3817,2b83378a) (dostęp 02.12.2020). Przedstawia on wyniki ankiet dotyczącej opinii Polaków wobec działalności Kościoła katolickiego w Polsce.\n",
    "\n",
    "![Wyniki ankiety](ocena_kosciola_katolickiego_przyciete.webp)\n",
    "\n",
    "Jest on częścią grafiki złożonej z wielu wykresów. \n",
    "Ma wiele wad, które utrudniają jego interpretację:\n",
    "* Nie jest jasne czemu odpowiadają punkty na osi $x$ - raczej są to punkty czasowe, ale w różnych latach jest ich więcej niż w innych, czyniąc te lata optycznie dłuższymi; nie wiadomo, kiedy zostały wykonane ankiety.\n",
    "* Nie jest jasne, czemu odpowiada wysokość na osi pionowej - z jednej strony kolory sugerują, że powinno się traktować wysokość \"paska\" danego koloru w danym punkcie czasowym jako udział danej opinii. Z drugiej, podane są pewne liczby powyżej paska danego koloru, które... prawdopodobnie są faktycznymi wartościami. Jak wiemy z <ins>reszty grafiki</ins> (<q>... wśród badanych wciąż przeważa opinia, ze jego sytuacja w Polsce jest dobra.</q>), druga z interpretacji jest tą prawidłową.\n",
    "* Tylko najwyższa z liczb na skali pionowej (60) ma dopisany procent z prawej strony - gdyby nie ona, nie byłoby jasne czy wartości oznaczają przykładowo liczbę odpowiedzi danego typu, czy udział procentowy danych odpowiedzi.\n",
    "* Liczby powyżej pasków purpurawego koloru stapiają się nieco z tłem utrudniających ich odczytywanie.\n",
    "* Żadna para wartości nie dodaje się do stu... jak było wspomniane powyżej, interpretacja wartości jako procent jest sugerowana, więc gdzie podziały się pozostałe procenty? Prawdopodobnie brakujące wartości biorą się z odpowiedzi \"Trudno powiedzieć\", która już jest wymieniona na pozostałych wykresach ze wspomnianej strony.\n",
    "* Poziome kreski mające ułatwić rozpoznawanie wysokości są niemalże niewidoczne i raczej powodują efekt z pamiątki znad morza z kolorowym piaskiem za szybką niż dają pomoc w odczytywaniu.\n",
    "\n",
    "## Próba poprawienia wykresu\n",
    "\n",
    "Przede wszystkim konieczne jest ukazanie wartości procentowych na wykresie nie poprzez wysokość od zera a wysokość chociażby słupka jednego koloru. Zdecydowałem sie również wybrać średnią z punktów czasowych odpowiadajacych temu samemu roku, gdyż nie wiadomo, kiedy ankiety były tworzone, a jednak jakąś informacje z tamtego okresu chcemy mieć. Przede wszystkim nie chcemy sztucznie rozszerzać danego okresu.\n",
    "Dodałem również odpowiedź <q>Trudno powiedzieć</q>, która zdaje się odpowiadać za brakujące procenty z wykresu.\n",
    "\n",
    "### Wczytanie danych"
   ]
  },
  {
   "cell_type": "code",
   "execution_count": 1,
   "metadata": {},
   "outputs": [],
   "source": [
    "lata = [2012, 2013, 2014, 2015, 2016, 2017, 2018, 2019]\n",
    "liczba_lat = len(lata)\n",
    "dobra_ocena = [60, (57+59+56)/3, (62+57+58)/3, (62+55+53)/3, (55+55)/2, (52+61)/2, (54+55)/2, (57+48+53+48)/4]\n",
    "zla_ocena =   [29, (29+28+32)/3, (29+34+27)/3, (28+32+33)/3, (32+31)/2, (35+29)/2, (32+33)/2, (32+40+34+38)/4]\n",
    "trudno_powiedziec = [100 - dobra_ocena[i] - zla_ocena[i] for i in range( liczba_lat)]\n",
    "\n",
    "\n",
    "\n",
    "import pandas as pd \n",
    "\n",
    "raw_data = {\n",
    "    \"Dobrze\": dobra_ocena,\n",
    "    \"Trudno powiedzieć\": trudno_powiedziec, \n",
    "    \"Źle\": zla_ocena\n",
    "}\n",
    "df = pd.DataFrame( raw_data)"
   ]
  },
  {
   "cell_type": "markdown",
   "metadata": {},
   "source": [
    "### Tworzenie wykresu"
   ]
  },
  {
   "cell_type": "code",
   "execution_count": 2,
   "metadata": {},
   "outputs": [
    {
     "data": {
      "image/png": "[encoded data removed]",
      "text/plain": [
       "<Figure size 432x288 with 1 Axes>"
      ]
     },
     "metadata": {
      "needs_background": "light"
     },
     "output_type": "display_data"
    }
   ],
   "source": [
    "import matplotlib.pyplot as plt\n",
    "from mpl_toolkits.axes_grid1 import host_subplot\n",
    "barWidth = 0.7\n",
    "\n",
    "ax = plt.figure();\n",
    "host = host_subplot(111)\n",
    "\n",
    "# Create green Bars\n",
    "p1 = plt.bar(lata, dobra_ocena,\n",
    "             color='seagreen', edgecolor='white',\n",
    "             width=barWidth)\n",
    "# Create orange Bars\n",
    "p2 = plt.bar(lata, trudno_powiedziec, bottom=dobra_ocena,\n",
    "             color='goldenrod', edgecolor='white',\n",
    "             width=barWidth)\n",
    "# Create reddish Bars\n",
    "p3 = plt.bar(lata, zla_ocena, bottom=[i+j for i,j in zip(dobra_ocena, trudno_powiedziec)],\n",
    "             color='indianred', edgecolor='white',\n",
    "             width=barWidth)\n",
    "\n",
    "# Custom x axis\n",
    "plt.xticks(lata)\n",
    "plt.xlabel(\"rok\")\n",
    " \n",
    "plt.title('Jak pan(i) ocenia działalność Kościoła katolickiego?',\n",
    "         fontsize = 14)\n",
    "\n",
    "from matplotlib.font_manager import FontProperties\n",
    "\n",
    "\n",
    "plt.legend((p3[0], p2[0], p1[0]), ('Źle','Trudno powiedzieć','Dobrze'),\n",
    "           loc='lower left',\n",
    "           bbox_to_anchor=(1, 0.7, 0.5, 0.5))\n",
    "\n",
    "plt.rc('legend',**{'fontsize':10})\n",
    "\n",
    "import matplotlib.ticker as ticker\n",
    "\n",
    "plt.gca().yaxis.set_major_formatter(ticker.PercentFormatter())\n",
    "\n",
    "plt.box(True)\n",
    "\n",
    "host.spines['top'].set_visible(False)\n",
    "host.spines['right'].set_visible(False)\n",
    "host.spines['left'].set_visible(False)\n",
    "\n",
    "host.set_axisbelow(True)\n",
    "\n",
    "plt.grid(False, axis = \"x\")\n",
    "plt.grid(axis = \"y\")\n",
    "\n",
    "plt.xlabel(\" \")\n",
    "\n",
    "\n",
    "# Show graphic\n",
    "plt.show()"
   ]
  },
  {
   "cell_type": "markdown",
   "metadata": {},
   "source": [
    "Utworzony wykres jest znacznie prostszy w odczytaniu niż poprzedni. Łatwo zauważyć, że procent Polaków dobrze oceniających działania kościoła się zmniejsza w czasie, z kolei tych, którzy źle je oceniają jest coraz więcej.  Nie zawiera również niejasności co do większej liczby punktów czasowych w pewnych latach względem innych.\n",
    "\n",
    "Poziome linie zostały pozostawione, gdyż pomagają one w porównywaniu wysokości słupków szczególnie dla późniejszych lat."
   ]
  }
 ],
 "metadata": {
  "kernelspec": {
   "display_name": "Python 3",
   "language": "python",
   "name": "python3"
  },
  "language_info": {
   "codemirror_mode": {
    "name": "ipython",
    "version": 3
   },
   "file_extension": ".py",
   "mimetype": "text/x-python",
   "name": "python",
   "nbconvert_exporter": "python",
   "pygments_lexer": "ipython3",
   "version": "3.8.3"
  }
 },
 "nbformat": 4,
 "nbformat_minor": 4
}
